{
  "nbformat": 4,
  "nbformat_minor": 0,
  "metadata": {
    "colab": {
      "name": "NormalConvs-CoatDJSCC.ipynb",
      "provenance": [],
      "collapsed_sections": []
    },
    "kernelspec": {
      "name": "python3",
      "display_name": "Python 3"
    },
    "language_info": {
      "name": "python"
    },
    "gpuClass": "standard",
    "accelerator": "GPU"
  },
  "cells": [
    {
      "cell_type": "markdown",
      "source": [
        "Cloning coatnet.py and importing modules"
      ],
      "metadata": {
        "id": "bhqaMz7iWFIQ"
      }
    },
    {
      "cell_type": "code",
      "source": [
        "!pip install einops"
      ],
      "metadata": {
        "colab": {
          "base_uri": "https://localhost:8080/"
        },
        "id": "pKFI-wMRYTyO",
        "outputId": "26f0c889-0273-44f0-d5d9-2daa21ebffac"
      },
      "execution_count": null,
      "outputs": [
        {
          "output_type": "stream",
          "name": "stdout",
          "text": [
            "Looking in indexes: https://pypi.org/simple, https://us-python.pkg.dev/colab-wheels/public/simple/\n",
            "Collecting einops\n",
            "  Downloading einops-0.4.1-py3-none-any.whl (28 kB)\n",
            "Installing collected packages: einops\n",
            "Successfully installed einops-0.4.1\n"
          ]
        }
      ]
    },
    {
      "cell_type": "code",
      "source": [
        "import torch\n",
        "import torch.nn as nn\n",
        "\n",
        "\n",
        "from einops import rearrange\n",
        "from einops.layers.torch import Rearrange\n",
        "\n",
        "\n",
        "def conv_3x3_bn(inp, oup, image_size, downsample=False):\n",
        "    stride = 1 if downsample == False else 2\n",
        "    return nn.Sequential(\n",
        "        nn.Conv2d(inp, oup, 3, stride, 1, bias=False),\n",
        "        nn.BatchNorm2d(oup),\n",
        "        nn.GELU()\n",
        "    )\n",
        "\n",
        "\n",
        "class PreNorm(nn.Module):\n",
        "    def __init__(self, dim, fn, norm):\n",
        "        super().__init__()\n",
        "        self.norm = norm(dim)\n",
        "        self.fn = fn\n",
        "\n",
        "    def forward(self, x, **kwargs):\n",
        "        return self.fn(self.norm(x), **kwargs)\n",
        "\n",
        "\n",
        "class SE(nn.Module):\n",
        "    def __init__(self, inp, oup, expansion=0.25):\n",
        "        super().__init__()\n",
        "        self.avg_pool = nn.AdaptiveAvgPool2d(1)\n",
        "        self.fc = nn.Sequential(\n",
        "            nn.Linear(oup, int(inp * expansion), bias=False),\n",
        "            nn.GELU(),\n",
        "            nn.Linear(int(inp * expansion), oup, bias=False),\n",
        "            nn.Sigmoid()\n",
        "        )\n",
        "\n",
        "    def forward(self, x):\n",
        "        b, c, _, _ = x.size()\n",
        "        y = self.avg_pool(x).view(b, c)\n",
        "        y = self.fc(y).view(b, c, 1, 1)\n",
        "        return x * y\n",
        "\n",
        "\n",
        "class FeedForward(nn.Module):\n",
        "    def __init__(self, dim, hidden_dim, dropout=0.):\n",
        "        super().__init__()\n",
        "        self.net = nn.Sequential(\n",
        "            nn.Linear(dim, hidden_dim),\n",
        "            nn.GELU(),\n",
        "            nn.Dropout(dropout),\n",
        "            nn.Linear(hidden_dim, dim),\n",
        "            nn.Dropout(dropout)\n",
        "        )\n",
        "\n",
        "    def forward(self, x):\n",
        "        return self.net(x)\n",
        "\n",
        "\n",
        "class MBConv(nn.Module):\n",
        "    def __init__(self, inp, oup, image_size, downsample=False, expansion=4):\n",
        "        super().__init__()\n",
        "        self.downsample = downsample\n",
        "        stride = 1 if self.downsample == False else 2\n",
        "        hidden_dim = int(inp * expansion)\n",
        "\n",
        "        if self.downsample:\n",
        "            self.pool = nn.MaxPool2d(3, 2, 1)\n",
        "            self.proj = nn.Conv2d(inp, oup, 1, 1, 0, bias=False)\n",
        "\n",
        "        if expansion == 1:\n",
        "            self.conv = nn.Sequential(\n",
        "                # dw\n",
        "                nn.Conv2d(hidden_dim, hidden_dim, 3, stride,\n",
        "                          1, groups=hidden_dim, bias=False),\n",
        "                nn.BatchNorm2d(hidden_dim),\n",
        "                nn.GELU(),\n",
        "                # pw-linear\n",
        "                nn.Conv2d(hidden_dim, oup, 1, 1, 0, bias=False),\n",
        "                nn.BatchNorm2d(oup),\n",
        "            )\n",
        "        else:\n",
        "            self.conv = nn.Sequential(\n",
        "                # pw\n",
        "                # down-sample in the first conv\n",
        "                nn.Conv2d(inp, hidden_dim, 1, stride, 0, bias=False),\n",
        "                nn.BatchNorm2d(hidden_dim),\n",
        "                nn.GELU(),\n",
        "                # dw\n",
        "                nn.Conv2d(hidden_dim, hidden_dim, 3, 1, 1,\n",
        "                          groups=hidden_dim, bias=False),\n",
        "                nn.BatchNorm2d(hidden_dim),\n",
        "                nn.GELU(),\n",
        "                SE(inp, hidden_dim),\n",
        "                # pw-linear\n",
        "                nn.Conv2d(hidden_dim, oup, 1, 1, 0, bias=False),\n",
        "                nn.BatchNorm2d(oup),\n",
        "            )\n",
        "        \n",
        "        self.conv = PreNorm(inp, self.conv, nn.BatchNorm2d)\n",
        "\n",
        "    def forward(self, x):\n",
        "        if self.downsample:\n",
        "            return self.proj(self.pool(x)) + self.conv(x)\n",
        "        else:\n",
        "            return x + self.conv(x)\n",
        "\n",
        "\n",
        "class Attention(nn.Module):\n",
        "    def __init__(self, inp, oup, image_size, heads=8, dim_head=32, dropout=0.):\n",
        "        super().__init__()\n",
        "        inner_dim = dim_head * heads\n",
        "        project_out = not (heads == 1 and dim_head == inp)\n",
        "\n",
        "        self.ih, self.iw = image_size\n",
        "\n",
        "        self.heads = heads\n",
        "        self.scale = dim_head ** -0.5\n",
        "\n",
        "        # parameter table of relative position bias\n",
        "        self.relative_bias_table = nn.Parameter(\n",
        "            torch.zeros((2 * self.ih - 1) * (2 * self.iw - 1), heads))\n",
        "\n",
        "        coords = torch.meshgrid((torch.arange(self.ih), torch.arange(self.iw)))\n",
        "        coords = torch.flatten(torch.stack(coords), 1)\n",
        "        relative_coords = coords[:, :, None] - coords[:, None, :]\n",
        "\n",
        "        relative_coords[0] += self.ih - 1\n",
        "        relative_coords[1] += self.iw - 1\n",
        "        relative_coords[0] *= 2 * self.iw - 1\n",
        "        relative_coords = rearrange(relative_coords, 'c h w -> h w c')\n",
        "        relative_index = relative_coords.sum(-1).flatten().unsqueeze(1)\n",
        "        self.register_buffer(\"relative_index\", relative_index)\n",
        "\n",
        "        self.attend = nn.Softmax(dim=-1)\n",
        "        self.to_qkv = nn.Linear(inp, inner_dim * 3, bias=False)\n",
        "\n",
        "        self.to_out = nn.Sequential(\n",
        "            nn.Linear(inner_dim, oup),\n",
        "            nn.Dropout(dropout)\n",
        "        ) if project_out else nn.Identity()\n",
        "\n",
        "    def forward(self, x):\n",
        "        qkv = self.to_qkv(x).chunk(3, dim=-1)\n",
        "        q, k, v = map(lambda t: rearrange(\n",
        "            t, 'b n (h d) -> b h n d', h=self.heads), qkv)\n",
        "\n",
        "        dots = torch.matmul(q, k.transpose(-1, -2)) * self.scale\n",
        "\n",
        "        # Use \"gather\" for more efficiency on GPUs\n",
        "        relative_bias = self.relative_bias_table.gather(\n",
        "            0, self.relative_index.repeat(1, self.heads))\n",
        "        relative_bias = rearrange(\n",
        "            relative_bias, '(h w) c -> 1 c h w', h=self.ih*self.iw, w=self.ih*self.iw)\n",
        "        dots = dots + relative_bias\n",
        "\n",
        "        attn = self.attend(dots)\n",
        "        out = torch.matmul(attn, v)\n",
        "        out = rearrange(out, 'b h n d -> b n (h d)')\n",
        "        out = self.to_out(out)\n",
        "        return out\n",
        "\n",
        "\n",
        "class Transformer(nn.Module):\n",
        "    def __init__(self, inp, oup, image_size, heads=8, dim_head=32, downsample=False, dropout=0.):\n",
        "        super().__init__()\n",
        "        hidden_dim = int(inp * 4)\n",
        "\n",
        "        self.ih, self.iw = image_size\n",
        "        self.downsample = downsample\n",
        "\n",
        "        if self.downsample:\n",
        "            self.pool1 = nn.MaxPool2d(3, 2, 1)\n",
        "            self.pool2 = nn.MaxPool2d(3, 2, 1)\n",
        "            self.proj = nn.Conv2d(inp, oup, 1, 1, 0, bias=False)\n",
        "\n",
        "        self.attn = Attention(inp, oup, image_size, heads, dim_head, dropout)\n",
        "        self.ff = FeedForward(oup, hidden_dim, dropout)\n",
        "\n",
        "        self.attn = nn.Sequential(\n",
        "            Rearrange('b c ih iw -> b (ih iw) c'),\n",
        "            PreNorm(inp, self.attn, nn.LayerNorm),\n",
        "            Rearrange('b (ih iw) c -> b c ih iw', ih=self.ih, iw=self.iw)\n",
        "        )\n",
        "\n",
        "        self.ff = nn.Sequential(\n",
        "            Rearrange('b c ih iw -> b (ih iw) c'),\n",
        "            PreNorm(oup, self.ff, nn.LayerNorm),\n",
        "            Rearrange('b (ih iw) c -> b c ih iw', ih=self.ih, iw=self.iw)\n",
        "        )\n",
        "\n",
        "    def forward(self, x):\n",
        "        if self.downsample:\n",
        "            x = self.proj(self.pool1(x)) + self.attn(self.pool2(x))\n",
        "        else:\n",
        "            x = x + self.attn(x)\n",
        "        x = x + self.ff(x)\n",
        "        return x\n",
        "\n",
        "\n",
        "class CoAtNet(nn.Module):\n",
        "    def __init__(self, image_size, in_channels, num_blocks, channels, num_classes=1000, block_types=['C', 'C', 'T', 'T']):\n",
        "        super().__init__()\n",
        "        ih, iw = image_size\n",
        "        block = {'C': MBConv, 'T': Transformer}\n",
        "\n",
        "        self.s0 = self._make_layer(\n",
        "            conv_3x3_bn, in_channels, channels[0], num_blocks[0], (ih // 2, iw // 2))\n",
        "        self.s1 = self._make_layer(\n",
        "            block[block_types[0]], channels[0], channels[1], num_blocks[1], (ih // 4, iw // 4))\n",
        "        self.s2 = self._make_layer(\n",
        "            block[block_types[1]], channels[1], channels[2], num_blocks[2], (ih // 8, iw // 8))\n",
        "        self.s3 = self._make_layer(\n",
        "            block[block_types[2]], channels[2], channels[3], num_blocks[3], (ih // 16, iw // 16))\n",
        "        self.s4 = self._make_layer(\n",
        "            block[block_types[3]], channels[3], channels[4], num_blocks[4], (ih // 32, iw // 32))\n",
        "\n",
        "        self.pool = nn.AvgPool2d(ih // 32, 1)\n",
        "        self.fc = nn.Linear(channels[-1], num_classes, bias=False)\n",
        "\n",
        "    def forward(self, x):\n",
        "        x = self.s0(x)\n",
        "        x = self.s1(x)\n",
        "        x = self.s2(x)\n",
        "        x = self.s3(x)\n",
        "        x = self.s4(x)\n",
        "\n",
        "        x = self.pool(x).view(-1, x.shape[1])\n",
        "        x = self.fc(x)\n",
        "        return x\n",
        "\n",
        "    def _make_layer(self, block, inp, oup, depth, image_size):\n",
        "        layers = nn.ModuleList([])\n",
        "        for i in range(depth):\n",
        "            if i == 0:\n",
        "                layers.append(block(inp, oup, image_size, downsample=True))\n",
        "            else:\n",
        "                layers.append(block(oup, oup, image_size))\n",
        "        return nn.Sequential(*layers)\n",
        "\n",
        "\n",
        "def coatnet_0():\n",
        "    num_blocks = [2, 2, 3, 5, 2]            # L\n",
        "    channels = [64, 96, 192, 384, 768]      # D\n",
        "    return CoAtNet((224, 224), 3, num_blocks, channels, num_classes=1000)\n",
        "\n",
        "\n",
        "def coatnet_1():\n",
        "    num_blocks = [2, 2, 6, 14, 2]           # L\n",
        "    channels = [64, 96, 192, 384, 768]      # D\n",
        "    return CoAtNet((224, 224), 3, num_blocks, channels, num_classes=1000)\n",
        "\n",
        "\n",
        "def coatnet_2():\n",
        "    num_blocks = [2, 2, 6, 14, 2]           # L\n",
        "    channels = [128, 128, 256, 512, 1026]   # D\n",
        "    return CoAtNet((224, 224), 3, num_blocks, channels, num_classes=1000)\n",
        "\n",
        "\n",
        "def coatnet_3():\n",
        "    num_blocks = [2, 2, 6, 14, 2]           # L\n",
        "    channels = [192, 192, 384, 768, 1536]   # D\n",
        "    return CoAtNet((224, 224), 3, num_blocks, channels, num_classes=1000)\n",
        "\n",
        "\n",
        "def coatnet_4():\n",
        "    num_blocks = [2, 2, 12, 28, 2]          # L\n",
        "    channels = [192, 192, 384, 768, 1536]   # D\n",
        "    return CoAtNet((224, 224), 3, num_blocks, channels, num_classes=1000)\n",
        "\n",
        "\n",
        "def count_parameters(model):\n",
        "    return sum(p.numel() for p in model.parameters() if p.requires_grad)\n",
        "\n"
      ],
      "metadata": {
        "id": "P2aTHM5KWb0y"
      },
      "execution_count": null,
      "outputs": []
    },
    {
      "cell_type": "markdown",
      "source": [
        "Random 3x224x224 images"
      ],
      "metadata": {
        "id": "scZF68EQW1C2"
      }
    },
    {
      "cell_type": "code",
      "source": [
        "images = torch.randn(5,3,32,32)"
      ],
      "metadata": {
        "id": "Z1pLuKE6WeRz"
      },
      "execution_count": null,
      "outputs": []
    },
    {
      "cell_type": "code",
      "source": [
        "s0 = conv_3x3_bn(3,64,(16,16),downsample = True) #imsize is the output size\n",
        "s0_output = s0(images)\n",
        "print(s0_output.shape)"
      ],
      "metadata": {
        "colab": {
          "base_uri": "https://localhost:8080/"
        },
        "id": "K3SvzRBAXFWp",
        "outputId": "ca87afcc-0546-4871-d258-98c57c7df489"
      },
      "execution_count": null,
      "outputs": [
        {
          "output_type": "stream",
          "name": "stdout",
          "text": [
            "torch.Size([5, 64, 16, 16])\n"
          ]
        }
      ]
    },
    {
      "cell_type": "code",
      "source": [
        "s1 = MBConv(64,96,(8,8),downsample = True,expansion=4)\n",
        "s1_output = s1(s0_output)\n",
        "print(s1_output.shape)"
      ],
      "metadata": {
        "colab": {
          "base_uri": "https://localhost:8080/"
        },
        "id": "8TMWb8U_YZz2",
        "outputId": "d0b07c52-8cc3-45de-9ed1-d6caf2fbcc4f"
      },
      "execution_count": null,
      "outputs": [
        {
          "output_type": "stream",
          "name": "stdout",
          "text": [
            "torch.Size([5, 96, 8, 8])\n"
          ]
        }
      ]
    },
    {
      "cell_type": "code",
      "source": [
        "s2 = MBConv(96,192,(4,4),downsample = True, expansion = 4)\n",
        "s2_output = s2(s1_output)\n",
        "print(s2_output.shape)"
      ],
      "metadata": {
        "colab": {
          "base_uri": "https://localhost:8080/"
        },
        "id": "3Shs7IseZwIZ",
        "outputId": "bd129de4-6415-4d4f-9799-07cf7500041b"
      },
      "execution_count": null,
      "outputs": [
        {
          "output_type": "stream",
          "name": "stdout",
          "text": [
            "torch.Size([5, 192, 4, 4])\n"
          ]
        }
      ]
    },
    {
      "cell_type": "code",
      "source": [
        "s3 = Transformer(192,384,(2,2),downsample = True)\n",
        "s3_output = s3(s2_output)\n",
        "print(s3_output.shape)"
      ],
      "metadata": {
        "colab": {
          "base_uri": "https://localhost:8080/"
        },
        "id": "l1oVa06xZ4e1",
        "outputId": "ea4163df-54a3-423e-949b-cbf27988a6b7"
      },
      "execution_count": null,
      "outputs": [
        {
          "output_type": "stream",
          "name": "stdout",
          "text": [
            "torch.Size([5, 384, 2, 2])\n"
          ]
        }
      ]
    },
    {
      "cell_type": "code",
      "source": [
        "s4 = Transformer(384,768,(1,1),downsample = True)\n",
        "s4_output = s4(s3_output)\n",
        "print(s4_output.shape)"
      ],
      "metadata": {
        "colab": {
          "base_uri": "https://localhost:8080/"
        },
        "id": "t3_eN1yLjBi0",
        "outputId": "98384891-84e7-4589-cb49-a8824d563c6f"
      },
      "execution_count": null,
      "outputs": [
        {
          "output_type": "stream",
          "name": "stdout",
          "text": [
            "torch.Size([5, 768, 1, 1])\n"
          ]
        }
      ]
    },
    {
      "cell_type": "code",
      "source": [
        "upsamplerrr = nn.ConvTranspose2d(3072,200,2,2)\n",
        "test = upsamplerrr(s4_output)\n",
        "print(test.shape)"
      ],
      "metadata": {
        "colab": {
          "base_uri": "https://localhost:8080/"
        },
        "id": "3bTBJ4XtHN-v",
        "outputId": "d15daf53-01e2-4310-dc64-06730fb54839"
      },
      "execution_count": null,
      "outputs": [
        {
          "output_type": "stream",
          "name": "stdout",
          "text": [
            "torch.Size([5, 200, 2, 2])\n"
          ]
        }
      ]
    },
    {
      "cell_type": "code",
      "source": [
        "s4_output[0,0,:,:]"
      ],
      "metadata": {
        "colab": {
          "base_uri": "https://localhost:8080/"
        },
        "id": "yiySnFMXjHp6",
        "outputId": "624a1af2-809c-44f5-ad89-068bc9df8e8d"
      },
      "execution_count": null,
      "outputs": [
        {
          "output_type": "execute_result",
          "data": {
            "text/plain": [
              "tensor([[-0.1653]], grad_fn=<SliceBackward0>)"
            ]
          },
          "metadata": {},
          "execution_count": 21
        }
      ]
    },
    {
      "cell_type": "markdown",
      "source": [
        "Symmetrical Coatnet"
      ],
      "metadata": {
        "id": "aMlS6LAJmNCt"
      }
    },
    {
      "cell_type": "code",
      "source": [
        "#----------------Same as CoAtNet--------------------------\n",
        "import torch\n",
        "import torch.nn as nn\n",
        "\n",
        "\n",
        "from einops import rearrange\n",
        "from einops.layers.torch import Rearrange\n",
        "\n",
        "class PreNorm(nn.Module):\n",
        "    def __init__(self, dim, fn, norm):\n",
        "        super().__init__()\n",
        "        self.norm = norm(dim)\n",
        "        self.fn = fn\n",
        "\n",
        "    def forward(self, x, **kwargs):\n",
        "        return self.fn(self.norm(x), **kwargs)\n",
        "\n",
        "\n",
        "class SE(nn.Module):\n",
        "    def __init__(self, inp, oup, expansion=0.25):\n",
        "        super().__init__()\n",
        "        self.avg_pool = nn.AdaptiveAvgPool2d(1)\n",
        "        self.fc = nn.Sequential(\n",
        "            nn.Linear(oup, int(inp * expansion), bias=False),\n",
        "            nn.GELU(),\n",
        "            nn.Linear(int(inp * expansion), oup, bias=False),\n",
        "            nn.Sigmoid()\n",
        "        )\n",
        "\n",
        "    def forward(self, x):\n",
        "        b, c, _, _ = x.size()\n",
        "        y = self.avg_pool(x).view(b, c)\n",
        "        y = self.fc(y).view(b, c, 1, 1)\n",
        "        return x * y\n",
        "class Attention(nn.Module):\n",
        "    def __init__(self, inp, oup, image_size, heads=8, dim_head=32, dropout=0.):\n",
        "        super().__init__()\n",
        "        inner_dim = dim_head * heads\n",
        "        project_out = not (heads == 1 and dim_head == inp)\n",
        "\n",
        "        self.ih, self.iw = image_size\n",
        "\n",
        "        self.heads = heads\n",
        "        self.scale = dim_head ** -0.5\n",
        "\n",
        "        # parameter table of relative position bias\n",
        "        self.relative_bias_table = nn.Parameter(\n",
        "            torch.zeros((2 * self.ih - 1) * (2 * self.iw - 1), heads))\n",
        "\n",
        "        coords = torch.meshgrid((torch.arange(self.ih), torch.arange(self.iw)))\n",
        "        coords = torch.flatten(torch.stack(coords), 1)\n",
        "        relative_coords = coords[:, :, None] - coords[:, None, :]\n",
        "\n",
        "        relative_coords[0] += self.ih - 1\n",
        "        relative_coords[1] += self.iw - 1\n",
        "        relative_coords[0] *= 2 * self.iw - 1\n",
        "        relative_coords = rearrange(relative_coords, 'c h w -> h w c')\n",
        "        relative_index = relative_coords.sum(-1).flatten().unsqueeze(1)\n",
        "        self.register_buffer(\"relative_index\", relative_index)\n",
        "\n",
        "        self.attend = nn.Softmax(dim=-1)\n",
        "        self.to_qkv = nn.Linear(inp, inner_dim * 3, bias=False)\n",
        "\n",
        "        self.to_out = nn.Sequential(\n",
        "            nn.Linear(inner_dim, oup),\n",
        "            nn.Dropout(dropout)\n",
        "        ) if project_out else nn.Identity()\n",
        "\n",
        "    def forward(self, x):\n",
        "        qkv = self.to_qkv(x).chunk(3, dim=-1)\n",
        "        q, k, v = map(lambda t: rearrange(\n",
        "            t, 'b n (h d) -> b h n d', h=self.heads), qkv)\n",
        "\n",
        "        dots = torch.matmul(q, k.transpose(-1, -2)) * self.scale\n",
        "\n",
        "        # Use \"gather\" for more efficiency on GPUs\n",
        "        relative_bias = self.relative_bias_table.gather(\n",
        "            0, self.relative_index.repeat(1, self.heads))\n",
        "        relative_bias = rearrange(\n",
        "            relative_bias, '(h w) c -> 1 c h w', h=self.ih*self.iw, w=self.ih*self.iw)\n",
        "        dots = dots + relative_bias\n",
        "\n",
        "        attn = self.attend(dots)\n",
        "        out = torch.matmul(attn, v)\n",
        "        out = rearrange(out, 'b h n d -> b n (h d)')\n",
        "        out = self.to_out(out)\n",
        "        return out\n",
        "\n",
        "# -----------------Symmetric CoAtNet Modules--------------\n",
        "class Bicubic_upsampler(nn.Module):\n",
        "    def __init__(self,scale_factor,mode):\n",
        "      super(Bicubic_upsampler,self).__init__()\n",
        "      self.upsampler = nn.functional.interpolate\n",
        "      self.scale_factor = scale_factor\n",
        "      self.mode = mode\n",
        "    def forward(self,x):\n",
        "      x = self.upsampler(x,scale_factor = self.scale_factor, mode = self.mode)\n",
        "      return x\n",
        "\n",
        "\n",
        "class InverseTransformer(nn.Module):\n",
        "    def __init__(self, inp, oup, image_size, heads=8, dim_head=32, upsample=False, dropout=0.):\n",
        "        super().__init__()\n",
        "        \n",
        "\n",
        "        self.ih, self.iw = image_size\n",
        "        self.upsample = upsample\n",
        "        \n",
        "        \n",
        "        if self.upsample: #We can change the upsampling method at some point.\n",
        "          #Maybe using bicubic interpolation might be better\n",
        "          \n",
        "          # self.upsampler = nn.PixelShuffle(2) # 2 is the upsample factor can be a hyperparameter\n",
        "          # inp = int(inp/4) # after upsampling \n",
        "          self.upsampler = nn.ConvTranspose2d(inp,inp,kernel_size=2,stride=2,bias=False) \n",
        "\n",
        "          # Not needed since pixelshuffle reduces channels while upsampling, Needed when using bicubic interpolation\n",
        "          # self.upsampler = Bicubic_upsampler(scale_factor = 2, mode = \"bicubic\")\n",
        "          self.proj = nn.ConvTranspose2d(inp, oup, 1, 1, 0, bias=False) \n",
        "\n",
        "        hidden_dim = int(inp * 4)\n",
        "        self.attn = Attention(inp, oup, image_size, heads, dim_head, dropout)\n",
        "        self.ff = FeedForward(oup, hidden_dim, dropout)\n",
        "\n",
        "        self.attn = nn.Sequential(\n",
        "            Rearrange('b c ih iw -> b (ih iw) c'),\n",
        "            PreNorm(inp, self.attn, nn.LayerNorm),\n",
        "            Rearrange('b (ih iw) c -> b c ih iw', ih=self.ih, iw=self.iw)\n",
        "        )\n",
        "\n",
        "        self.ff = nn.Sequential(\n",
        "            Rearrange('b c ih iw -> b (ih iw) c'),\n",
        "            PreNorm(oup, self.ff, nn.LayerNorm),\n",
        "            Rearrange('b (ih iw) c -> b c ih iw', ih=self.ih, iw=self.iw)\n",
        "        )\n",
        "\n",
        "    def forward(self, x):\n",
        "        if self.upsample:\n",
        "            x = self.proj(self.upsampler(x)) + self.attn(self.upsampler(x))\n",
        "        else:\n",
        "            x = x + self.attn(x)\n",
        "        x = x + self.ff(x)\n",
        "        return x\n",
        "\n",
        "class InverseMBConv(nn.Module):\n",
        "    def __init__(self, inp, oup, image_size, upsample=False, expansion=4):\n",
        "        super().__init__()\n",
        "        self.upsample = upsample\n",
        "        stride = 1 if self.upsample == False else 2\n",
        "        output_padding = 0 if self.upsample == False else 1\n",
        "\n",
        "        if self.upsample:\n",
        "            # self.upsampler = nn.PixelShuffle(2)\n",
        "            # self.upsampler = Bicubic_upsampler(scale_factor = 2, mode = \"bicubic\")\n",
        "            self.proj = nn.Conv2d(inp, oup, 1, 1, 0, bias=False)\n",
        "            self.upsampler = nn.ConvTranspose2d(inp,inp,kernel_size=2,stride=2,bias=False)\n",
        "        \n",
        "        hidden_dim = int(inp * expansion)\n",
        "      \n",
        "        if expansion == 1:\n",
        "            self.conv = nn.Sequential(\n",
        "                # dw\n",
        "                nn.Conv2d(inp, hidden_dim, 3, stride,\n",
        "                          1, groups=inp, bias=False,output_padding = output_padding),\n",
        "                nn.BatchNorm2d(hidden_dim),\n",
        "                nn.GELU(),\n",
        "                # pw-linear\n",
        "                nn.Conv2d(hidden_dim, oup, 1, 1, 0, bias=False),\n",
        "                nn.BatchNorm2d(oup),\n",
        "            )\n",
        "        else:\n",
        "            self.conv = nn.Sequential(\n",
        "                # pw\n",
        "                # up-sample in the first conv\n",
        "                nn.ConvTranspose2d(inp, hidden_dim, 1, stride, 0, bias=False,output_padding = output_padding),\n",
        "                nn.BatchNorm2d(hidden_dim),\n",
        "                nn.GELU(),\n",
        "                # dw\n",
        "                nn.Conv2d(hidden_dim, hidden_dim, 3, 1, 1,\n",
        "                          groups=hidden_dim, bias=False),\n",
        "                nn.BatchNorm2d(hidden_dim),\n",
        "                nn.GELU(),\n",
        "                SE(inp, hidden_dim),\n",
        "                # pw-linear\n",
        "                nn.Conv2d(hidden_dim, oup, 1, 1, 0, bias=False),\n",
        "                nn.BatchNorm2d(oup),\n",
        "            )\n",
        "        \n",
        "        self.conv = PreNorm(inp, self.conv, nn.BatchNorm2d)\n",
        "\n",
        "    def forward(self, x):\n",
        "        if self.upsample:\n",
        "            return self.proj(self.upsampler(x)) + self.conv(x)\n",
        "        else:\n",
        "            return x + self.conv(x)\n",
        "\n",
        "def Inverse_conv_3x3_bn(inp, oup, image_size, upsample=False):\n",
        "    stride = 1 if upsample == False else 2\n",
        "    output_padding = 0 if upsample == False else 1\n",
        "    return nn.Sequential(\n",
        "        nn.ConvTranspose2d(inp, oup, 3, stride, 1, bias=False,output_padding = output_padding),\n",
        "        nn.BatchNorm2d(oup),\n",
        "        nn.Tanh()\n",
        "    )"
      ],
      "metadata": {
        "id": "2ngNf3yTm3l5"
      },
      "execution_count": null,
      "outputs": []
    },
    {
      "cell_type": "markdown",
      "source": [
        "Recreating the Image"
      ],
      "metadata": {
        "id": "2eldj5XvMWmw"
      }
    },
    {
      "cell_type": "code",
      "source": [
        "g4 = InverseTransformer(768,384,(2,2),upsample = True)\n",
        "g4_output = g4(s4_output)\n",
        "print(g4_output.shape)"
      ],
      "metadata": {
        "colab": {
          "base_uri": "https://localhost:8080/"
        },
        "id": "JWFvcuhz-A8q",
        "outputId": "dcba1a08-50c9-4c61-bd0c-ba4261c446fb"
      },
      "execution_count": null,
      "outputs": [
        {
          "output_type": "stream",
          "name": "stdout",
          "text": [
            "torch.Size([5, 384, 2, 2])\n"
          ]
        }
      ]
    },
    {
      "cell_type": "code",
      "source": [
        "g3 = InverseTransformer(384,192,(4,4),upsample = True)\n",
        "g3_output = g3(g4_output)\n",
        "print(g3_output.shape)"
      ],
      "metadata": {
        "id": "ULmmBESw_C9U",
        "colab": {
          "base_uri": "https://localhost:8080/"
        },
        "outputId": "a37d28db-91f4-40c2-c89e-fc3fdce98307"
      },
      "execution_count": null,
      "outputs": [
        {
          "output_type": "stream",
          "name": "stdout",
          "text": [
            "torch.Size([5, 192, 4, 4])\n"
          ]
        }
      ]
    },
    {
      "cell_type": "code",
      "source": [
        "g2 = InverseMBConv(192,96,(8,8),upsample = True)\n",
        "g2_output = g2(g3_output)\n",
        "print(g2_output.shape)"
      ],
      "metadata": {
        "id": "RipHJjQtBG2V",
        "colab": {
          "base_uri": "https://localhost:8080/"
        },
        "outputId": "63c58a86-2428-4351-e395-66a8983d0736"
      },
      "execution_count": null,
      "outputs": [
        {
          "output_type": "stream",
          "name": "stdout",
          "text": [
            "torch.Size([5, 96, 8, 8])\n"
          ]
        }
      ]
    },
    {
      "cell_type": "code",
      "source": [
        "g1 = InverseMBConv(96,64,(16,16),upsample = True)\n",
        "g1_output = g1(g2_output)\n",
        "print(g1_output.shape)"
      ],
      "metadata": {
        "colab": {
          "base_uri": "https://localhost:8080/"
        },
        "id": "O7sC2cEEBZbb",
        "outputId": "603a9b86-0f46-4d89-fdbf-3c60721fec3e"
      },
      "execution_count": null,
      "outputs": [
        {
          "output_type": "stream",
          "name": "stdout",
          "text": [
            "torch.Size([5, 64, 16, 16])\n"
          ]
        }
      ]
    },
    {
      "cell_type": "code",
      "source": [
        "g0 = Inverse_conv_3x3_bn(64,3,(32,32),upsample = True)\n",
        "g0_output = g0(g1_output)\n",
        "print(g0_output.shape)"
      ],
      "metadata": {
        "id": "8SPUadwWBkPq",
        "colab": {
          "base_uri": "https://localhost:8080/"
        },
        "outputId": "92737496-2c01-4799-dfee-22b86ffb9aac"
      },
      "execution_count": null,
      "outputs": [
        {
          "output_type": "stream",
          "name": "stdout",
          "text": [
            "torch.Size([5, 3, 32, 32])\n"
          ]
        }
      ]
    },
    {
      "cell_type": "code",
      "source": [
        "lolconv = nn.ConvTranspose2d(192,768,1,2,0,bias=False, output_padding = 1)\n",
        "test = lolconv(g3_output)\n",
        "print(test.shape)\n",
        "testconv = nn.ConvTranspose2d(768,768,3,1,1,groups = 768,bias = False)\n",
        "test = testconv(test)\n",
        "print(test.shape)\n",
        "se = SE(192,768)\n",
        "test = se(test)\n",
        "print(test.shape)\n",
        "pwconv = nn.ConvTranspose2d(768,48,1,1,0,bias = False)\n",
        "test = pwconv(test)\n",
        "print(test.shape)"
      ],
      "metadata": {
        "colab": {
          "base_uri": "https://localhost:8080/"
        },
        "id": "o1LHCxOK-Qa9",
        "outputId": "cb0da218-2928-4471-edc0-d694c858cdaf"
      },
      "execution_count": null,
      "outputs": [
        {
          "output_type": "stream",
          "name": "stdout",
          "text": [
            "torch.Size([1, 768, 56, 56])\n",
            "torch.Size([1, 768, 56, 56])\n",
            "torch.Size([1, 768, 56, 56])\n",
            "torch.Size([1, 48, 56, 56])\n"
          ]
        }
      ]
    },
    {
      "cell_type": "markdown",
      "source": [
        "Merged Auto Encoder"
      ],
      "metadata": {
        "id": "80XoOA0xMVbk"
      }
    },
    {
      "cell_type": "code",
      "source": [
        "# class MLP(nn.Module):\n",
        "#   def __init__(self,inp,oup,dropout = 0.):\n",
        "#     super().__init__()\n",
        "#     hidden = int(inp/2)\n",
        "#     self.fc1 = nn.Linear(inp,hidden)\n",
        "#     self.act = nn.GELU()\n",
        "#     self.fc2 = nn.Linear(hidden,oup)\n",
        "#     self.drop = nn.Dropout(dropout)\n",
        "#     self.norm_layer1 = nn.LayerNorm(hidden)\n",
        "#     self.norm_layer2 = nn.LayerNorm(oup)\n",
        "#   def forward(self,x):\n",
        "#     x = rearrange(x,'b c h w -> b h w c')\n",
        "#     x = self.fc1(x)\n",
        "#     # x = self.norm_layer1(x)\n",
        "#     x = self.act(x)\n",
        "#     x = self.drop(x)\n",
        "#     x = self.fc2(x)\n",
        "#     # x = self.norm_layer2(x)\n",
        "#     x = self.drop(x)\n",
        "#     x = rearrange(x,'b h w c -> b c h w')\n",
        "#     return x\n",
        "\n",
        "# class Inverse_MLP(nn.Module):\n",
        "#   def __init__(self,inp,oup,dropout = 0.):\n",
        "#     super().__init__()\n",
        "#     hidden = int(inp*2)\n",
        "#     self.fc1 = nn.Linear(inp,hidden)\n",
        "#     self.act = nn.GELU()\n",
        "#     self.fc2 = nn.Linear(hidden,oup)\n",
        "#     self.drop = nn.Dropout(dropout)\n",
        "#     self.norm_layer1 = nn.LayerNorm(hidden)\n",
        "#     self.norm_layer2 = nn.LayerNorm(oup)\n",
        "#   def forward(self,x):\n",
        "#     x = rearrange(x,'b c h w -> b h w c')\n",
        "#     x = self.fc1(x)\n",
        "#     # x = self.norm_layer1(x)\n",
        "#     x = self.act(x)\n",
        "#     x = self.drop(x)\n",
        "#     x = self.fc2(x)\n",
        "#     # x = self.norm_layer2(x)\n",
        "#     x = self.drop(x)\n",
        "#     x = rearrange(x,'b h w c -> b c h w')\n",
        "#     return x\n",
        "\n",
        "class MergedAutoEncoder(nn.Module):\n",
        "  def __init__(self):\n",
        "    super(MergedAutoEncoder,self).__init__()\n",
        "    ######### encoder layers #########\n",
        "    #self.a0 =  conv_3x3_bn(3,12,(16,16),downsample = True)\n",
        "    self.a0 = self._make_layer_analysis(conv_3x3_bn,3,128,1,(16,16))\n",
        "    # self.gdn12 = GDN(12)\n",
        "\n",
        "    #self.a1 = MBConv(12,48,(8,8),downsample = True)\n",
        "    self.a1 = self._make_layer_analysis(MBConv,128,128,2,(8,8))\n",
        "    # self.gdn48 = GDN(48)\n",
        "\n",
        "    #self.a2 = MBConv(48,192,(4,4),downsample = True)\n",
        "    self.a2 = self._make_layer_analysis(MBConv,128,256,6,(4,4))\n",
        "    # self.gdn192 = GDN(192)\n",
        "\n",
        "    #self.a3 = Transformer(192,768,(2,2),downsample=True)\n",
        "    self.a3 = self._make_layer_analysis(Transformer,256,512,14,(2,2))\n",
        "    # self.gdn768 = GDN(768)\n",
        "\n",
        "    #self.a4 = Transformer(768,3072,(1,1),downsample = True)\n",
        "    self.a4 = self._make_layer_analysis(Transformer,512,1024,2,(1,1))\n",
        "    # self.gdn3072 = GDN(3072)\n",
        "\n",
        "    # self.compress = MLP(3072,192)\n",
        "\n",
        "    ######### decoder layers #########\n",
        "\n",
        "    # self. decompress = Inverse_MLP(192,3072)\n",
        "\n",
        "    #self.s4 = InverseTransformer(3072,768,(2,2),upsample = True)\n",
        "    self.s4 = self._make_layer_synthesis(InverseTransformer,1024,512,2,(2,2))\n",
        "    # self.igdn768 = GDN(768,inverse=True)\n",
        "\n",
        "    #self.s3 = InverseTransformer(768,192,(4,4),upsample = True)\n",
        "    self.s3 = self._make_layer_synthesis(InverseTransformer,512,256,14,(4,4))\n",
        "    # self.igdn192 = GDN(192,inverse=True)\n",
        "\n",
        "    # self.s2 = InverseMBConv(192,48,(8,8),upsample= True)\n",
        "    self.s2 = self._make_layer_synthesis(InverseMBConv,256,128,6,(8,8))\n",
        "\n",
        "    # self.igdn48= GDN(48,inverse=True)\n",
        "\n",
        "    # self.s1 = InverseMBConv(48,12,(16,16),upsample = True)\n",
        "    self.s1 = self._make_layer_synthesis(InverseMBConv,128,128,2,(16,16))\n",
        "    # self.igdn12= GDN(12,inverse=True)\n",
        "\n",
        "    # self.s0 = Inverse_conv_3x3_bn(12,3,(32,32),upsample = True)\n",
        "    self.s0 = self._make_layer_synthesis(Inverse_conv_3x3_bn,128,3,1,(32,32))\n",
        "    # self.igdn3= GDN(3,inverse=True)\n",
        "\n",
        "  def encode(self,x):\n",
        "    x = self.a0(x)\n",
        "    x = self.a1(x)\n",
        "    x = self.a2(x)\n",
        "    x = self.a3(x)\n",
        "    x = self.a4(x)\n",
        "    # x = self.compress(x)\n",
        "    return x\n",
        "\n",
        "  def decode(self,x):\n",
        "    # x = self.decompress(x)\n",
        "    x = self.s4(x)\n",
        "    x = self.s3(x)\n",
        "    x = self.s2(x)\n",
        "    x = self.s1(x)\n",
        "    x = self.s0(x)\n",
        "    return x\n",
        "\n",
        "  def forward(self,x):\n",
        "    enc = self.encode(x)\n",
        "    x_hat = self.decode(enc)\n",
        "    return x_hat\n",
        "\n",
        "  def _make_layer_analysis(self,block,inp,oup,depth,image_size):\n",
        "    layers = nn.ModuleList([])\n",
        "    for i in range(depth):\n",
        "      if i == 0:\n",
        "        layers.append(block(inp,oup,image_size,downsample = True))\n",
        "      else:\n",
        "        layers.append(block(oup,oup,image_size))\n",
        "    return nn.Sequential(*layers)\n",
        "  \n",
        "  def _make_layer_synthesis(self,block,inp,oup,depth,image_size):\n",
        "    layers = nn.ModuleList([])\n",
        "    for i in range(depth):\n",
        "      if i == 0:\n",
        "        layers.append(block(inp,oup,image_size,upsample = True))\n",
        "      else:\n",
        "        layers.append(block(oup,oup,image_size))\n",
        "    return nn.Sequential(*layers)\n"
      ],
      "metadata": {
        "id": "A2Y-1kwcMyku"
      },
      "execution_count": null,
      "outputs": []
    },
    {
      "cell_type": "markdown",
      "source": [
        "Main"
      ],
      "metadata": {
        "id": "cbeQV_IoRS_i"
      }
    },
    {
      "cell_type": "code",
      "source": [
        "from torch.nn.modules import loss\n",
        "from torchvision.transforms.transforms import RandomVerticalFlip\n",
        "import torch\n",
        "import torchvision\n",
        "import torchvision.transforms as transforms\n",
        "import numpy as np\n",
        "import torch.nn as nn\n",
        "import torch.nn.functional as F\n",
        "import torch.optim as optim\n",
        "import torch.optim.lr_scheduler\n",
        "from tqdm import tqdm\n",
        "import math\n",
        "\n",
        "device = torch.device(\"cuda\" if torch.cuda.is_available() else \"cpu\")\n",
        "\n",
        "train_transform = transforms.Compose(\n",
        "    [\n",
        "      # transforms.RandomHorizontalFlip(p=0.5),\n",
        "    #  transforms.RandomCrop(32,padding=4),\n",
        "    #  transforms.RandomVerticalFlip(p=0.5),\n",
        "     transforms.ToTensor(),\n",
        "     transforms.Normalize([0.5,0.5,0.5],[0.5,0.5,0.5])\n",
        "    ])# normalize the image between [-1 1]\n",
        "\n",
        "test_transform = transforms.Compose(\n",
        "    [transforms.ToTensor(),\n",
        "     transforms.Normalize([0.5,0.5,0.5],[0.5,0.5,0.5])\n",
        "    ])\n",
        "\n",
        "batch_size = 128\n",
        "trainset = torchvision.datasets.CIFAR10(root='./data', train=True,\n",
        "                                        download=True, transform=train_transform)\n",
        "trainloader = torch.utils.data.DataLoader(trainset, batch_size=batch_size,\n",
        "                                          shuffle=True, num_workers=2)\n",
        "\n",
        "testset = torchvision.datasets.CIFAR10(root='./data', train=False,\n",
        "                                       download=True, transform=test_transform)\n",
        "testloader = torch.utils.data.DataLoader(testset, batch_size=batch_size,\n",
        "                                         shuffle=False, num_workers=2)\n",
        "\n",
        "\n",
        "model = MergedAutoEncoder().to(device)\n",
        "criterion = nn.MSELoss()\n",
        "optimizer = torch.optim.Adam(model.parameters(),lr = 2e-3)\n",
        "scheduler = torch.optim.lr_scheduler.ReduceLROnPlateau(optimizer,mode='min',patience=2,verbose=True)\n",
        "\n",
        "def compute_psnr(img1, img2):\n",
        "    img1 = img1.astype(np.float64) \n",
        "    img2 = img2.astype(np.float64) \n",
        "    mse = np.mean((img1 - img2) ** 2)\n",
        "    if mse == 0:\n",
        "        return \"Same Image\"\n",
        "    return 10 * math.log10(1. / mse)\n",
        "\n",
        "######## Training #########\n",
        "def train(dataloader,model,loss_fn,optimizer):\n",
        "  size = len(dataloader.dataset)\n",
        "  model.train()\n",
        "  for batch, (X,y) in enumerate(dataloader):\n",
        "    X,y = X.to(device), y.to(device) # I guess we dont actually need the labels\n",
        "    pred = model(X)\n",
        "    loss = criterion(pred,X) # The difference between X and  the prediction by model\n",
        "    with torch.autograd.set_detect_anomaly(False):\n",
        "      optimizer.zero_grad()\n",
        "      loss.backward()\n",
        "      optimizer.step()\n",
        "      if batch % 100 == 0:\n",
        "        loss,current = loss.item(), batch * len(X)\n",
        "        print(f\"loss: {loss:>7f}  [{current:>5d}/{size:>5d}]\")\n",
        "  return loss.item()\n",
        "\n",
        "def test(dataloader,model,loss_fn):\n",
        "  size = len(dataloader.dataset)\n",
        "  num_batches = len(dataloader)\n",
        "  model.eval()\n",
        "  test_loss, correct = 0,0\n",
        "  psnr = 0\n",
        "  with torch.no_grad():\n",
        "    for X,y in dataloader:\n",
        "      X,y = X.to(device), y.to(device)\n",
        "      pred = model(X)\n",
        "      psnr += compute_psnr(pred.cpu().numpy(),X.cpu().numpy())\n",
        "      test_loss += criterion(pred,X).item()\n",
        "    print(f\"PSNR: {psnr/num_batches}\")\n",
        "    print(f\"Test Loss: {test_loss/num_batches}\")\n",
        "\n",
        "epochs = 60\n",
        "for t in range(epochs):\n",
        "    print(f\"Epoch {t+1}\\n-------------------------------\")\n",
        "    train_loss = train(trainloader, model, criterion, optimizer)\n",
        "    test(testloader, model, criterion)\n",
        "    scheduler.step(train_loss)\n",
        "    # print(f\"The last LR is {scheduler.get_last_lr()[0]}\")\n",
        "print(\"Done!\")"
      ],
      "metadata": {
        "colab": {
          "base_uri": "https://localhost:8080/"
        },
        "id": "U2j1S9N8RT7J",
        "outputId": "6bdb93f1-5a5b-4979-a4e8-afb25fc574ef"
      },
      "execution_count": null,
      "outputs": [
        {
          "output_type": "stream",
          "name": "stdout",
          "text": [
            "Files already downloaded and verified\n",
            "Files already downloaded and verified\n",
            "Epoch 1\n",
            "-------------------------------\n",
            "loss: 0.593021  [    0/50000]\n",
            "loss: 0.150868  [12800/50000]\n",
            "loss: 0.157247  [25600/50000]\n",
            "loss: 0.127978  [38400/50000]\n",
            "PSNR: 9.498923439820178\n",
            "Test Loss: 0.11235343674315681\n",
            "Epoch 2\n",
            "-------------------------------\n",
            "loss: 0.109529  [    0/50000]\n",
            "loss: 0.108629  [12800/50000]\n",
            "loss: 0.098070  [25600/50000]\n",
            "loss: 0.092001  [38400/50000]\n",
            "PSNR: 10.836457425120754\n",
            "Test Loss: 0.08258123035672345\n",
            "Epoch 3\n",
            "-------------------------------\n",
            "loss: 0.081467  [    0/50000]\n",
            "loss: 0.082716  [12800/50000]\n",
            "loss: 0.070842  [25600/50000]\n",
            "loss: 0.069533  [38400/50000]\n",
            "PSNR: 11.843284947696434\n",
            "Test Loss: 0.06549550121343589\n",
            "Epoch 4\n",
            "-------------------------------\n",
            "loss: 0.068221  [    0/50000]\n",
            "loss: 0.069345  [12800/50000]\n",
            "loss: 0.058507  [25600/50000]\n",
            "loss: 0.057883  [38400/50000]\n",
            "PSNR: 12.42751452425399\n",
            "Test Loss: 0.05724887521583823\n",
            "Epoch 5\n",
            "-------------------------------\n",
            "loss: 0.058480  [    0/50000]\n",
            "loss: 0.054210  [12800/50000]\n",
            "loss: 0.055656  [25600/50000]\n",
            "loss: 0.051591  [38400/50000]\n",
            "PSNR: 12.983065781282805\n",
            "Test Loss: 0.05037145821165435\n",
            "Epoch 6\n",
            "-------------------------------\n",
            "loss: 0.051501  [    0/50000]\n",
            "loss: 0.049345  [12800/50000]\n",
            "loss: 0.047846  [25600/50000]\n",
            "loss: 0.045590  [38400/50000]\n",
            "PSNR: 13.457846622201757\n",
            "Test Loss: 0.04515114412466182\n",
            "Epoch 7\n",
            "-------------------------------\n",
            "loss: 0.043809  [    0/50000]\n",
            "loss: 0.042488  [12800/50000]\n",
            "loss: 0.043857  [25600/50000]\n",
            "loss: 0.044709  [38400/50000]\n",
            "PSNR: 13.813953461977606\n",
            "Test Loss: 0.041596094217104244\n",
            "Epoch 8\n",
            "-------------------------------\n",
            "loss: 0.040899  [    0/50000]\n",
            "loss: 0.041000  [12800/50000]\n",
            "loss: 0.041702  [25600/50000]\n",
            "loss: 0.041721  [38400/50000]\n",
            "PSNR: 14.104729852113538\n",
            "Test Loss: 0.03890249482061289\n",
            "Epoch 9\n",
            "-------------------------------\n",
            "loss: 0.038057  [    0/50000]\n",
            "loss: 0.041456  [12800/50000]\n",
            "loss: 0.040246  [25600/50000]\n",
            "loss: 0.044839  [38400/50000]\n",
            "PSNR: 14.36409409838205\n",
            "Test Loss: 0.03664457312301744\n",
            "Epoch 10\n",
            "-------------------------------\n",
            "loss: 0.037438  [    0/50000]\n",
            "loss: 0.035082  [12800/50000]\n",
            "loss: 0.035706  [25600/50000]\n",
            "loss: 0.036797  [38400/50000]\n",
            "PSNR: 14.722192611897226\n",
            "Test Loss: 0.03374528844805458\n",
            "Epoch 11\n",
            "-------------------------------\n",
            "loss: 0.036871  [    0/50000]\n",
            "loss: 0.033645  [12800/50000]\n",
            "loss: 0.036630  [25600/50000]\n",
            "loss: 0.032300  [38400/50000]\n",
            "PSNR: 15.064675343325002\n",
            "Test Loss: 0.031186862506821185\n",
            "Epoch 12\n",
            "-------------------------------\n",
            "loss: 0.030494  [    0/50000]\n",
            "loss: 0.029392  [12800/50000]\n",
            "loss: 0.033490  [25600/50000]\n",
            "loss: 0.030101  [38400/50000]\n",
            "PSNR: 15.261369426136016\n",
            "Test Loss: 0.029805450664856768\n",
            "Epoch 13\n",
            "-------------------------------\n",
            "loss: 0.027544  [    0/50000]\n",
            "loss: 0.028580  [12800/50000]\n",
            "loss: 0.029476  [25600/50000]\n",
            "loss: 0.027956  [38400/50000]\n",
            "PSNR: 15.46946647554409\n",
            "Test Loss: 0.028410668260877646\n",
            "Epoch 14\n",
            "-------------------------------\n",
            "loss: 0.030037  [    0/50000]\n",
            "loss: 0.028521  [12800/50000]\n",
            "loss: 0.027077  [25600/50000]\n",
            "loss: 0.026757  [38400/50000]\n",
            "PSNR: 15.733944143619832\n",
            "Test Loss: 0.026732666087867337\n",
            "Epoch 15\n",
            "-------------------------------\n",
            "loss: 0.027359  [    0/50000]\n",
            "loss: 0.026060  [12800/50000]\n",
            "loss: 0.026940  [25600/50000]\n",
            "loss: 0.026533  [38400/50000]\n",
            "PSNR: 15.893729848101323\n",
            "Test Loss: 0.02576699225774294\n",
            "Epoch 16\n",
            "-------------------------------\n",
            "loss: 0.025410  [    0/50000]\n",
            "loss: 0.026336  [12800/50000]\n",
            "loss: 0.025782  [25600/50000]\n",
            "loss: 0.024263  [38400/50000]\n",
            "PSNR: 16.16741151330867\n",
            "Test Loss: 0.02419400913051412\n",
            "Epoch 17\n",
            "-------------------------------\n",
            "loss: 0.024220  [    0/50000]\n",
            "loss: 0.023760  [12800/50000]\n",
            "loss: 0.024453  [25600/50000]\n",
            "loss: 0.025013  [38400/50000]\n",
            "PSNR: 16.206184413158038\n",
            "Test Loss: 0.02397777206158336\n",
            "Epoch 18\n",
            "-------------------------------\n",
            "loss: 0.024096  [    0/50000]\n",
            "loss: 0.025489  [12800/50000]\n",
            "loss: 0.023267  [25600/50000]\n",
            "loss: 0.022692  [38400/50000]\n",
            "PSNR: 16.398173775372523\n",
            "Test Loss: 0.022942411277113082\n",
            "Epoch 19\n",
            "-------------------------------\n",
            "loss: 0.022859  [    0/50000]\n",
            "loss: 0.022422  [12800/50000]\n",
            "loss: 0.027054  [25600/50000]\n",
            "loss: 0.022074  [38400/50000]\n",
            "PSNR: 16.601993925422217\n",
            "Test Loss: 0.021891287610500673\n",
            "Epoch 20\n",
            "-------------------------------\n",
            "loss: 0.022784  [    0/50000]\n",
            "loss: 0.024475  [12800/50000]\n",
            "loss: 0.023948  [25600/50000]\n",
            "loss: 0.022585  [38400/50000]\n",
            "PSNR: 16.652992847046335\n",
            "Test Loss: 0.021634571395720108\n",
            "Epoch 21\n",
            "-------------------------------\n",
            "loss: 0.020862  [    0/50000]\n",
            "loss: 0.022966  [12800/50000]\n",
            "loss: 0.021976  [25600/50000]\n",
            "loss: 0.021966  [38400/50000]\n",
            "PSNR: 16.755319559356657\n",
            "Test Loss: 0.02113103312499161\n",
            "Epoch 22\n",
            "-------------------------------\n",
            "loss: 0.021418  [    0/50000]\n",
            "loss: 0.020425  [12800/50000]\n",
            "loss: 0.020184  [25600/50000]\n",
            "loss: 0.020426  [38400/50000]\n",
            "PSNR: 16.74287103582032\n",
            "Test Loss: 0.021192493765980383\n",
            "Epoch 23\n",
            "-------------------------------\n",
            "loss: 0.021525  [    0/50000]\n",
            "loss: 0.021181  [12800/50000]\n",
            "loss: 0.020641  [25600/50000]\n",
            "loss: 0.020851  [38400/50000]\n",
            "PSNR: 16.731881232904858\n",
            "Test Loss: 0.021244761663713033\n",
            "Epoch 24\n",
            "-------------------------------\n",
            "loss: 0.021020  [    0/50000]\n",
            "loss: 0.019747  [12800/50000]\n",
            "loss: 0.020734  [25600/50000]\n",
            "loss: 0.020566  [38400/50000]\n",
            "PSNR: 17.002888302732543\n",
            "Test Loss: 0.01996054688963709\n",
            "Epoch 25\n",
            "-------------------------------\n",
            "loss: 0.020913  [    0/50000]\n",
            "loss: 0.019036  [12800/50000]\n",
            "loss: 0.018595  [25600/50000]\n",
            "loss: 0.019975  [38400/50000]\n",
            "PSNR: 17.153748905445728\n",
            "Test Loss: 0.019278384980898868\n",
            "Epoch 26\n",
            "-------------------------------\n",
            "loss: 0.019453  [    0/50000]\n",
            "loss: 0.019786  [12800/50000]\n",
            "loss: 0.018449  [25600/50000]\n",
            "loss: 0.020076  [38400/50000]\n",
            "PSNR: 17.24853404845817\n",
            "Test Loss: 0.01886271124210539\n",
            "Epoch 27\n",
            "-------------------------------\n",
            "loss: 0.018265  [    0/50000]\n",
            "loss: 0.018095  [12800/50000]\n",
            "loss: 0.017571  [25600/50000]\n",
            "loss: 0.019258  [38400/50000]\n",
            "PSNR: 17.179375701090475\n",
            "Test Loss: 0.019164764970729622\n",
            "Epoch 28\n",
            "-------------------------------\n",
            "loss: 0.018530  [    0/50000]\n",
            "loss: 0.017751  [12800/50000]\n",
            "loss: 0.019508  [25600/50000]\n",
            "loss: 0.019885  [38400/50000]\n",
            "PSNR: 17.20924151506843\n",
            "Test Loss: 0.01903326342566104\n",
            "Epoch 29\n",
            "-------------------------------\n",
            "loss: 0.020400  [    0/50000]\n",
            "loss: 0.020299  [12800/50000]\n",
            "loss: 0.018213  [25600/50000]\n",
            "loss: 0.021140  [38400/50000]\n",
            "PSNR: 17.370212360960153\n",
            "Test Loss: 0.018341988348696804\n",
            "Epoch 30\n",
            "-------------------------------\n",
            "loss: 0.019250  [    0/50000]\n",
            "loss: 0.020974  [12800/50000]\n",
            "loss: 0.022690  [25600/50000]\n",
            "loss: 0.018303  [38400/50000]\n",
            "PSNR: 17.211471109108643\n",
            "Test Loss: 0.01902411559808858\n",
            "Epoch 00030: reducing learning rate of group 0 to 2.0000e-04.\n",
            "Epoch 31\n",
            "-------------------------------\n",
            "loss: 0.020218  [    0/50000]\n",
            "loss: 0.017525  [12800/50000]\n",
            "loss: 0.018579  [25600/50000]\n",
            "loss: 0.017202  [38400/50000]\n",
            "PSNR: 17.83206595873932\n",
            "Test Loss: 0.016492835493593275\n",
            "Epoch 32\n",
            "-------------------------------\n",
            "loss: 0.016026  [    0/50000]\n",
            "loss: 0.017579  [12800/50000]\n",
            "loss: 0.018184  [25600/50000]\n",
            "loss: 0.015091  [38400/50000]\n",
            "PSNR: 17.869619284601512\n",
            "Test Loss: 0.016350720254586466\n",
            "Epoch 33\n",
            "-------------------------------\n",
            "loss: 0.017988  [    0/50000]\n",
            "loss: 0.017214  [12800/50000]\n",
            "loss: 0.016429  [25600/50000]\n",
            "loss: 0.016684  [38400/50000]\n",
            "PSNR: 17.88087210127449\n",
            "Test Loss: 0.016308400862484793\n",
            "Epoch 34\n",
            "-------------------------------\n",
            "loss: 0.017069  [    0/50000]\n",
            "loss: 0.017422  [12800/50000]\n",
            "loss: 0.017670  [25600/50000]\n",
            "loss: 0.017990  [38400/50000]\n",
            "PSNR: 17.85926573544532\n",
            "Test Loss: 0.01638975672282373\n",
            "Epoch 35\n",
            "-------------------------------\n",
            "loss: 0.016883  [    0/50000]\n",
            "loss: 0.016139  [12800/50000]\n",
            "loss: 0.016165  [25600/50000]\n",
            "loss: 0.017142  [38400/50000]\n",
            "PSNR: 17.884537608046166\n",
            "Test Loss: 0.016294495344067676\n",
            "Epoch 36\n",
            "-------------------------------\n",
            "loss: 0.015497  [    0/50000]\n",
            "loss: 0.016246  [12800/50000]\n",
            "loss: 0.017151  [25600/50000]\n",
            "loss: 0.015572  [38400/50000]\n",
            "PSNR: 17.893326511436793\n",
            "Test Loss: 0.016261584549859355\n",
            "Epoch 00036: reducing learning rate of group 0 to 2.0000e-05.\n",
            "Epoch 37\n",
            "-------------------------------\n",
            "loss: 0.015045  [    0/50000]\n",
            "loss: 0.015549  [12800/50000]\n",
            "loss: 0.016255  [25600/50000]\n",
            "loss: 0.017771  [38400/50000]\n",
            "PSNR: 17.97482877311075\n",
            "Test Loss: 0.01595967726286831\n",
            "Epoch 38\n",
            "-------------------------------\n",
            "loss: 0.016267  [    0/50000]\n",
            "loss: 0.015707  [12800/50000]\n",
            "loss: 0.016199  [25600/50000]\n",
            "loss: 0.016715  [38400/50000]\n",
            "PSNR: 17.984966853372143\n",
            "Test Loss: 0.01592248932847494\n",
            "Epoch 39\n",
            "-------------------------------\n",
            "loss: 0.016115  [    0/50000]\n",
            "loss: 0.013738  [12800/50000]\n",
            "loss: 0.015912  [25600/50000]\n",
            "loss: 0.015640  [38400/50000]\n",
            "PSNR: 17.993454675003868\n",
            "Test Loss: 0.01589146571210291\n",
            "Epoch 00039: reducing learning rate of group 0 to 2.0000e-06.\n",
            "Epoch 40\n",
            "-------------------------------\n",
            "loss: 0.014221  [    0/50000]\n",
            "loss: 0.017559  [12800/50000]\n",
            "loss: 0.015477  [25600/50000]\n",
            "loss: 0.016080  [38400/50000]\n",
            "PSNR: 17.995267944643828\n",
            "Test Loss: 0.015884829637936398\n",
            "Epoch 41\n",
            "-------------------------------\n",
            "loss: 0.016802  [    0/50000]\n",
            "loss: 0.015318  [12800/50000]\n",
            "loss: 0.015567  [25600/50000]\n",
            "loss: 0.017927  [38400/50000]\n",
            "PSNR: 17.983708657328375\n",
            "Test Loss: 0.015927054259124437\n",
            "Epoch 42\n",
            "-------------------------------\n",
            "loss: 0.016253  [    0/50000]\n",
            "loss: 0.016097  [12800/50000]\n",
            "loss: 0.015596  [25600/50000]\n",
            "loss: 0.016477  [38400/50000]\n",
            "PSNR: 17.99531508316191\n",
            "Test Loss: 0.015884655303781546\n",
            "Epoch 43\n",
            "-------------------------------\n",
            "loss: 0.015058  [    0/50000]\n",
            "loss: 0.017043  [12800/50000]\n",
            "loss: 0.015175  [25600/50000]\n",
            "loss: 0.018280  [38400/50000]\n",
            "PSNR: 17.9942009367613\n",
            "Test Loss: 0.015888733836480335\n",
            "Epoch 44\n",
            "-------------------------------\n",
            "loss: 0.015681  [    0/50000]\n",
            "loss: 0.018390  [12800/50000]\n",
            "loss: 0.015264  [25600/50000]\n",
            "loss: 0.016220  [38400/50000]\n",
            "PSNR: 17.994428996667384\n",
            "Test Loss: 0.015887859701827357\n",
            "Epoch 45\n",
            "-------------------------------\n",
            "loss: 0.015430  [    0/50000]\n",
            "loss: 0.015480  [12800/50000]\n",
            "loss: 0.015401  [25600/50000]\n",
            "loss: 0.015646  [38400/50000]\n",
            "PSNR: 17.998035545204203\n",
            "Test Loss: 0.01587472349122355\n",
            "Epoch 00045: reducing learning rate of group 0 to 2.0000e-07.\n",
            "Epoch 46\n",
            "-------------------------------\n",
            "loss: 0.016751  [    0/50000]\n",
            "loss: 0.015552  [12800/50000]\n",
            "loss: 0.017176  [25600/50000]\n",
            "loss: 0.016056  [38400/50000]\n",
            "PSNR: 17.98050973931594\n",
            "Test Loss: 0.015938733232832406\n",
            "Epoch 47\n",
            "-------------------------------\n",
            "loss: 0.016015  [    0/50000]\n",
            "loss: 0.016415  [12800/50000]\n",
            "loss: 0.017557  [25600/50000]\n",
            "loss: 0.016323  [38400/50000]\n",
            "PSNR: 17.958383538643744\n",
            "Test Loss: 0.016019996397102935\n",
            "Epoch 48\n",
            "-------------------------------\n",
            "loss: 0.015121  [    0/50000]\n",
            "loss: 0.015265  [12800/50000]\n",
            "loss: 0.015477  [25600/50000]\n",
            "loss: 0.014260  [38400/50000]\n",
            "PSNR: 17.997699883363683\n",
            "Test Loss: 0.015875936886649344\n",
            "Epoch 00048: reducing learning rate of group 0 to 2.0000e-08.\n",
            "Epoch 49\n",
            "-------------------------------\n",
            "loss: 0.015877  [    0/50000]\n",
            "loss: 0.015224  [12800/50000]\n",
            "loss: 0.017458  [25600/50000]\n",
            "loss: 0.016540  [38400/50000]\n",
            "PSNR: 17.99511777312519\n",
            "Test Loss: 0.01588536827247354\n",
            "Epoch 50\n",
            "-------------------------------\n",
            "loss: 0.015579  [    0/50000]\n",
            "loss: 0.015782  [12800/50000]\n",
            "loss: 0.015464  [25600/50000]\n",
            "loss: 0.015588  [38400/50000]\n",
            "PSNR: 17.995321347184994\n",
            "Test Loss: 0.015884631560950338\n",
            "Epoch 51\n",
            "-------------------------------\n",
            "loss: 0.016591  [    0/50000]\n",
            "loss: 0.016791  [12800/50000]\n",
            "loss: 0.016063  [25600/50000]\n",
            "loss: 0.016432  [38400/50000]\n",
            "PSNR: 17.98841712478924\n",
            "Test Loss: 0.015909895265498495\n",
            "Epoch 00051: reducing learning rate of group 0 to 2.0000e-09.\n",
            "Epoch 52\n",
            "-------------------------------\n",
            "loss: 0.016374  [    0/50000]\n",
            "loss: 0.015080  [12800/50000]\n",
            "loss: 0.015791  [25600/50000]\n",
            "loss: 0.017029  [38400/50000]\n",
            "PSNR: 17.98631990329113\n",
            "Test Loss: 0.015917507943378973\n",
            "Epoch 53\n",
            "-------------------------------\n",
            "loss: 0.014767  [    0/50000]\n",
            "loss: 0.015455  [12800/50000]\n",
            "loss: 0.014744  [25600/50000]\n",
            "loss: 0.015947  [38400/50000]\n",
            "PSNR: 17.994871021519614\n",
            "Test Loss: 0.015886263898279095\n",
            "Epoch 54\n",
            "-------------------------------\n",
            "loss: 0.016863  [    0/50000]\n",
            "loss: 0.016614  [12800/50000]\n",
            "loss: 0.015558  [25600/50000]\n",
            "loss: 0.017290  [38400/50000]\n",
            "PSNR: 17.994843503402436\n",
            "Test Loss: 0.015886363372961176\n",
            "Epoch 55\n",
            "-------------------------------\n",
            "loss: 0.016507  [    0/50000]\n",
            "loss: 0.015916  [12800/50000]\n",
            "loss: 0.014678  [25600/50000]\n",
            "loss: 0.016688  [38400/50000]\n",
            "PSNR: 17.987134690651423\n",
            "Test Loss: 0.015914594000087507\n",
            "Epoch 56\n",
            "-------------------------------\n",
            "loss: 0.015649  [    0/50000]\n",
            "loss: 0.014528  [12800/50000]\n",
            "loss: 0.015501  [25600/50000]\n",
            "loss: 0.015705  [38400/50000]\n",
            "PSNR: 17.99817035618258\n",
            "Test Loss: 0.01587421103981854\n",
            "Epoch 57\n",
            "-------------------------------\n",
            "loss: 0.016374  [    0/50000]\n",
            "loss: 0.016683  [12800/50000]\n",
            "loss: 0.015454  [25600/50000]\n",
            "loss: 0.015928  [38400/50000]\n",
            "PSNR: 17.995603619146042\n",
            "Test Loss: 0.01588360790776301\n",
            "Epoch 58\n",
            "-------------------------------\n",
            "loss: 0.018424  [    0/50000]\n",
            "loss: 0.015836  [12800/50000]\n",
            "loss: 0.015723  [25600/50000]\n",
            "loss: 0.015375  [38400/50000]\n",
            "PSNR: 17.99134262557237\n",
            "Test Loss: 0.01589915322587837\n",
            "Epoch 59\n",
            "-------------------------------\n",
            "loss: 0.016032  [    0/50000]\n",
            "loss: 0.016448  [12800/50000]\n",
            "loss: 0.015739  [25600/50000]\n",
            "loss: 0.015681  [38400/50000]\n",
            "PSNR: 17.996082512509453\n",
            "Test Loss: 0.015881843546617636\n",
            "Epoch 60\n",
            "-------------------------------\n",
            "loss: 0.015773  [    0/50000]\n",
            "loss: 0.015695  [12800/50000]\n",
            "loss: 0.015669  [25600/50000]\n",
            "loss: 0.015717  [38400/50000]\n",
            "PSNR: 17.996481258258374\n",
            "Test Loss: 0.015880389174422884\n",
            "Done!\n"
          ]
        }
      ]
    },
    {
      "cell_type": "code",
      "source": [
        "#Save model\n",
        "torch.save(model.state_dict(), \"model-data_augmented_tanh-coat0.pth\")\n",
        "print(\"Saved PyTorch Model State to model-data_augmented_tanh-coat0.pth\")"
      ],
      "metadata": {
        "id": "ZHRQMNasT0e4"
      },
      "execution_count": null,
      "outputs": []
    },
    {
      "cell_type": "code",
      "source": [
        "from google.colab import files\n",
        "files.download( \"model-data_augmented_tanh-coat0.pth\" ) "
      ],
      "metadata": {
        "id": "QnDqNGb-rSTC"
      },
      "execution_count": null,
      "outputs": []
    },
    {
      "cell_type": "code",
      "source": [
        "model = MergedAutoEncoder()\n",
        "model.load_state_dict()"
      ],
      "metadata": {
        "colab": {
          "base_uri": "https://localhost:8080/"
        },
        "id": "khNjvtG1xYbe",
        "outputId": "a777cf6b-53ae-4823-c244-4e78dd264972"
      },
      "execution_count": null,
      "outputs": [
        {
          "output_type": "stream",
          "name": "stdout",
          "text": [
            "The last LR is 0.001\n"
          ]
        }
      ]
    },
    {
      "cell_type": "code",
      "source": [
        "import matplotlib.pyplot as plt"
      ],
      "metadata": {
        "id": "mVomsZXoV6MS"
      },
      "execution_count": null,
      "outputs": []
    },
    {
      "cell_type": "code",
      "source": [
        "for test_images, test_labels in testloader:  \n",
        "    sample_image = test_images[0]    \n",
        "    sample_label = test_labels[0]"
      ],
      "metadata": {
        "id": "1-35kBV1Wie_"
      },
      "execution_count": null,
      "outputs": []
    },
    {
      "cell_type": "code",
      "source": [
        "plt.imshow(sample_image.reshape(3,32,32).permute(1,2,0))"
      ],
      "metadata": {
        "id": "Pr5TZIwtXYUd"
      },
      "execution_count": null,
      "outputs": []
    },
    {
      "cell_type": "code",
      "source": [
        ""
      ],
      "metadata": {
        "id": "fPFUu5-1tge0"
      },
      "execution_count": null,
      "outputs": []
    },
    {
      "cell_type": "code",
      "source": [
        "with torch.no_grad(): \n",
        "  prediction = model(sample_image.unsqueeze(0).to(device))\n",
        "  plt.imshow(prediction.cpu().reshape(3,32,32).permute(1,2,0))\n"
      ],
      "metadata": {
        "id": "RwpVoypmZWv1"
      },
      "execution_count": null,
      "outputs": []
    },
    {
      "cell_type": "code",
      "source": [
        "i = 0\n",
        "for train_images, _ in trainloader:  \n",
        "    sample_train_image = train_images[0] \n",
        "    i += 1\n",
        "    if i == 3:\n",
        "      break  \n",
        "plt.imshow(sample_train_image.reshape(3,32,32).permute(1,2,0))   "
      ],
      "metadata": {
        "colab": {
          "base_uri": "https://localhost:8080/",
          "height": 283
        },
        "id": "jJ_6TQ0HjylG",
        "outputId": "b66916f8-6489-4281-e64f-8f0b300ea68d"
      },
      "execution_count": null,
      "outputs": [
        {
          "output_type": "execute_result",
          "data": {
            "text/plain": [
              "<matplotlib.image.AxesImage at 0x7f31c057d610>"
            ]
          },
          "metadata": {},
          "execution_count": 11
        },
        {
          "output_type": "display_data",
          "data": {
            "text/plain": [
              "<Figure size 432x288 with 1 Axes>"
            ],
            "image/png": "[encoded data removed]"
          },
          "metadata": {
            "needs_background": "light"
          }
        }
      ]
    },
    {
      "cell_type": "code",
      "source": [
        "with torch.no_grad(): \n",
        "  prediction = model(sample_train_image.unsqueeze(0).to(device))\n",
        "  plt.imshow(prediction.cpu().reshape(3,32,32).permute(1,2,0))"
      ],
      "metadata": {
        "colab": {
          "base_uri": "https://localhost:8080/",
          "height": 266
        },
        "id": "kriqPwKikrez",
        "outputId": "2b93db0a-7e73-4207-efcb-1b3e2e6ca227"
      },
      "execution_count": null,
      "outputs": [
        {
          "output_type": "display_data",
          "data": {
            "text/plain": [
              "<Figure size 432x288 with 1 Axes>"
            ],
            "image/png": "[encoded data removed]"
          },
          "metadata": {
            "needs_background": "light"
          }
        }
      ]
    },
    {
      "cell_type": "code",
      "source": [
        "print(f\"Pred: {prediction}, Sample: {sample_train_image}\")"
      ],
      "metadata": {
        "colab": {
          "base_uri": "https://localhost:8080/"
        },
        "id": "fbhoY4b9jBeL",
        "outputId": "3b9ee6fb-543d-4097-d24d-657c74415693"
      },
      "execution_count": null,
      "outputs": [
        {
          "output_type": "stream",
          "name": "stdout",
          "text": [
            "Pred: tensor([[[[-0.0304,  0.5053,  0.5022,  ...,  0.4445, -0.0041,  0.5285],\n",
            "          [ 0.6265,  0.6073,  0.4726,  ..., -0.0562,  0.4721,  0.4507],\n",
            "          [ 0.6039,  0.5291,  0.3885,  ...,  0.4588, -0.0157,  0.5798],\n",
            "          ...,\n",
            "          [ 0.1844,  0.1843, -0.0288,  ...,  0.2814,  0.2144,  0.2324],\n",
            "          [ 0.2037,  0.1733,  0.2273,  ...,  0.2141,  0.1032,  0.2038],\n",
            "          [ 0.3970,  0.2690,  0.2171,  ..., -0.1121,  0.3130,  0.3311]],\n",
            "\n",
            "         [[ 0.6885,  0.7504,  0.8962,  ...,  0.5988,  0.6479,  0.7084],\n",
            "          [-0.0025,  0.8644,  0.9975,  ...,  0.7763,  0.7665,  0.7744],\n",
            "          [ 0.7807,  0.8433,  0.9086,  ...,  0.8546,  0.7004,  0.6793],\n",
            "          ...,\n",
            "          [ 0.3536,  0.3896,  0.3778,  ...,  0.3353,  0.2713,  0.3668],\n",
            "          [ 0.4496,  0.3269,  0.3944,  ...,  0.3700, -0.0211, -0.0090],\n",
            "          [-0.0442, -0.0017,  0.4832,  ..., -0.0548, -0.1353,  0.2882]],\n",
            "\n",
            "         [[ 0.9462,  1.0128, -0.0169,  ...,  0.8885,  0.8781,  0.8226],\n",
            "          [-0.0101,  1.0426,  0.8199,  ..., -0.0186, -0.0026,  0.8233],\n",
            "          [-0.0030,  1.0714, -0.0023,  ..., -0.0237,  0.6976,  0.9769],\n",
            "          ...,\n",
            "          [-0.0179,  0.4379,  0.4446,  ...,  0.5007,  0.4531,  0.4696],\n",
            "          [ 0.5329, -0.0070, -0.0478,  ...,  0.4503, -0.0658,  0.4075],\n",
            "          [ 0.4900,  0.4509,  0.5287,  ...,  0.5074,  0.4829,  0.4133]]]],\n",
            "       device='cuda:0'), Sample: tensor([[[0.5922, 0.5882, 0.5961,  ..., 0.4196, 0.4353, 0.4431],\n",
            "         [0.5882, 0.5843, 0.5922,  ..., 0.4275, 0.4392, 0.4471],\n",
            "         [0.5961, 0.5922, 0.5922,  ..., 0.4196, 0.4353, 0.4431],\n",
            "         ...,\n",
            "         [0.1804, 0.2275, 0.2196,  ..., 0.1412, 0.1059, 0.0941],\n",
            "         [0.2000, 0.2039, 0.1922,  ..., 0.1529, 0.1451, 0.1294],\n",
            "         [0.1843, 0.1059, 0.1333,  ..., 0.0902, 0.1059, 0.1216]],\n",
            "\n",
            "        [[0.8549, 0.8431, 0.8549,  ..., 0.7529, 0.7647, 0.7647],\n",
            "         [0.8471, 0.8392, 0.8471,  ..., 0.7608, 0.7686, 0.7647],\n",
            "         [0.8549, 0.8471, 0.8471,  ..., 0.7569, 0.7686, 0.7647],\n",
            "         ...,\n",
            "         [0.2706, 0.3176, 0.3333,  ..., 0.2392, 0.2118, 0.2078],\n",
            "         [0.2784, 0.2745, 0.3020,  ..., 0.2431, 0.2392, 0.2314],\n",
            "         [0.2392, 0.1647, 0.2235,  ..., 0.1804, 0.1882, 0.1961]],\n",
            "\n",
            "        [[1.0000, 0.9922, 1.0000,  ..., 1.0000, 1.0000, 1.0000],\n",
            "         [0.9961, 0.9843, 0.9961,  ..., 1.0000, 1.0000, 0.9961],\n",
            "         [1.0000, 0.9961, 0.9961,  ..., 0.9961, 0.9961, 0.9882],\n",
            "         ...,\n",
            "         [0.3922, 0.4510, 0.4667,  ..., 0.3451, 0.3373, 0.3294],\n",
            "         [0.3725, 0.3765, 0.4000,  ..., 0.3451, 0.3569, 0.3412],\n",
            "         [0.3137, 0.2353, 0.3059,  ..., 0.2667, 0.2824, 0.2980]]])\n"
          ]
        }
      ]
    },
    {
      "cell_type": "code",
      "source": [
        "sample_train_image[:,1,0]"
      ],
      "metadata": {
        "colab": {
          "base_uri": "https://localhost:8080/"
        },
        "id": "otSnlnecZotm",
        "outputId": "d4a1a824-3dab-4815-b28f-4e9edc9c902e"
      },
      "execution_count": null,
      "outputs": [
        {
          "output_type": "execute_result",
          "data": {
            "text/plain": [
              "tensor([0.5882, 0.8471, 0.9961])"
            ]
          },
          "metadata": {},
          "execution_count": 59
        }
      ]
    },
    {
      "cell_type": "code",
      "source": [
        "prediction.cpu().reshape(3,32,32).permute(1,2,0)[1,0,:]"
      ],
      "metadata": {
        "colab": {
          "base_uri": "https://localhost:8080/"
        },
        "id": "jsOjExYqYf1U",
        "outputId": "076199e6-410f-47fa-9566-f32254504da0"
      },
      "execution_count": null,
      "outputs": [
        {
          "output_type": "execute_result",
          "data": {
            "text/plain": [
              "tensor([ 0.6265, -0.0025, -0.0101])"
            ]
          },
          "metadata": {},
          "execution_count": 58
        }
      ]
    },
    {
      "cell_type": "code",
      "source": [
        "test_img = torch.rand((1,3,32,32))\n",
        "\n",
        "upsampled_test = nn.functional.interpolate(test_img,scale_factor = 2, mode = 'bicubic')\n",
        "print(upsampled_test.shape)"
      ],
      "metadata": {
        "colab": {
          "base_uri": "https://localhost:8080/"
        },
        "id": "S-vxnaUqAhA-",
        "outputId": "d57f4ad7-9dfa-4d14-aa90-2202b13ff949"
      },
      "execution_count": null,
      "outputs": [
        {
          "output_type": "stream",
          "name": "stdout",
          "text": [
            "torch.Size([1, 3, 64, 64])\n"
          ]
        }
      ]
    },
    {
      "cell_type": "code",
      "source": [
        "test_img = torch.ones((5,4,3))*0.3\n",
        "test_img[[0,1],:,:] += torch.ones(2,4,3)*0.5\n",
        "test_img[:,:,[0 ,1]] *= -1\n",
        "plt.imshow(test_img)\n",
        "print(test_img)"
      ],
      "metadata": {
        "colab": {
          "base_uri": "https://localhost:8080/",
          "height": 699
        },
        "id": "-Vabv740gDE2",
        "outputId": "669adc38-1a23-4ca0-d49a-04f7f04df73b"
      },
      "execution_count": null,
      "outputs": [
        {
          "output_type": "stream",
          "name": "stderr",
          "text": [
            "WARNING:matplotlib.image:Clipping input data to the valid range for imshow with RGB data ([0..1] for floats or [0..255] for integers).\n"
          ]
        },
        {
          "output_type": "stream",
          "name": "stdout",
          "text": [
            "tensor([[[-0.8000, -0.8000,  0.8000],\n",
            "         [-0.8000, -0.8000,  0.8000],\n",
            "         [-0.8000, -0.8000,  0.8000],\n",
            "         [-0.8000, -0.8000,  0.8000]],\n",
            "\n",
            "        [[-0.8000, -0.8000,  0.8000],\n",
            "         [-0.8000, -0.8000,  0.8000],\n",
            "         [-0.8000, -0.8000,  0.8000],\n",
            "         [-0.8000, -0.8000,  0.8000]],\n",
            "\n",
            "        [[-0.3000, -0.3000,  0.3000],\n",
            "         [-0.3000, -0.3000,  0.3000],\n",
            "         [-0.3000, -0.3000,  0.3000],\n",
            "         [-0.3000, -0.3000,  0.3000]],\n",
            "\n",
            "        [[-0.3000, -0.3000,  0.3000],\n",
            "         [-0.3000, -0.3000,  0.3000],\n",
            "         [-0.3000, -0.3000,  0.3000],\n",
            "         [-0.3000, -0.3000,  0.3000]],\n",
            "\n",
            "        [[-0.3000, -0.3000,  0.3000],\n",
            "         [-0.3000, -0.3000,  0.3000],\n",
            "         [-0.3000, -0.3000,  0.3000],\n",
            "         [-0.3000, -0.3000,  0.3000]]])\n"
          ]
        },
        {
          "output_type": "display_data",
          "data": {
            "text/plain": [
              "<Figure size 432x288 with 1 Axes>"
            ],
            "image/png": "[encoded data removed]"
          },
          "metadata": {
            "needs_background": "light"
          }
        }
      ]
    },
    {
      "cell_type": "markdown",
      "source": [
        "Transpose Convolution Test"
      ],
      "metadata": {
        "id": "JdVb6oxPu0EX"
      }
    },
    {
      "cell_type": "code",
      "source": [
        "test_img = torch.rand((1,3,4,4))\n",
        "conv1 = nn.Conv2d(3,6,9,stride=2,padding = 4)\n",
        "tconv1 = nn.ConvTranspose2d(6,3,9,stride=2, padding = 4, padding_mode = 'zeros', output_padding =1)"
      ],
      "metadata": {
        "id": "mSu425L3uz3v"
      },
      "execution_count": null,
      "outputs": []
    },
    {
      "cell_type": "code",
      "source": [
        "out = conv1(test_img)\n",
        "print(out.shape)"
      ],
      "metadata": {
        "colab": {
          "base_uri": "https://localhost:8080/"
        },
        "id": "HJ0xxACzvc4m",
        "outputId": "de7effd9-8a97-45a8-d728-b294039347fc"
      },
      "execution_count": null,
      "outputs": [
        {
          "output_type": "stream",
          "name": "stdout",
          "text": [
            "torch.Size([1, 6, 2, 2])\n"
          ]
        }
      ]
    },
    {
      "cell_type": "code",
      "source": [
        "inp = tconv1(out)\n",
        "print(inp,test_img)"
      ],
      "metadata": {
        "colab": {
          "base_uri": "https://localhost:8080/"
        },
        "id": "HhtpaPaCvk1v",
        "outputId": "6cc282c2-d00e-4346-f049-eb6b7b3ae4bf"
      },
      "execution_count": null,
      "outputs": [
        {
          "output_type": "stream",
          "name": "stdout",
          "text": [
            "tensor([[[[-0.0086, -0.0083,  0.0496, -0.0033],\n",
            "          [ 0.0780, -0.0133,  0.0247, -0.0376],\n",
            "          [ 0.0161, -0.0291, -0.0205,  0.0035],\n",
            "          [ 0.0167, -0.0012,  0.0644,  0.0330]],\n",
            "\n",
            "         [[-0.0610, -0.0690, -0.1254, -0.0404],\n",
            "          [-0.0793, -0.0464, -0.0442, -0.0613],\n",
            "          [-0.0379, -0.0891, -0.0516, -0.0814],\n",
            "          [-0.0920, -0.1054, -0.0521, -0.1036]],\n",
            "\n",
            "         [[-0.0197, -0.0046, -0.0123, -0.0380],\n",
            "          [-0.0099, -0.0208, -0.0200,  0.0110],\n",
            "          [-0.0848, -0.0005, -0.0024, -0.0717],\n",
            "          [ 0.0500, -0.0403,  0.0310,  0.0222]]]],\n",
            "       grad_fn=<ConvolutionBackward0>) tensor([[[[0.6772, 0.3688, 0.6604, 0.7083],\n",
            "          [0.1725, 0.2043, 0.4134, 0.3527],\n",
            "          [0.9243, 0.7630, 0.9189, 0.0444],\n",
            "          [0.1588, 0.3466, 0.1642, 0.8677]],\n",
            "\n",
            "         [[0.7165, 0.6763, 0.6757, 0.2020],\n",
            "          [0.5091, 0.8607, 0.7486, 0.7892],\n",
            "          [0.2434, 0.6277, 0.0537, 0.3956],\n",
            "          [0.0805, 0.4254, 0.3593, 0.8802]],\n",
            "\n",
            "         [[0.6234, 0.9429, 0.7410, 0.5261],\n",
            "          [0.4805, 0.4569, 0.0560, 0.7741],\n",
            "          [0.2432, 0.9682, 0.5754, 0.5888],\n",
            "          [0.1571, 0.3224, 0.2683, 0.0341]]]])\n"
          ]
        }
      ]
    }
  ]
}